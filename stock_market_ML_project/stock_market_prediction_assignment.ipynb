{
 "cells": [
  {
   "cell_type": "markdown",
   "metadata": {},
   "source": [
    "## <font color=\"blue\">Problem and Key Insight</font>"
   ]
  },
  {
   "cell_type": "markdown",
   "metadata": {},
   "source": [
    "### Problem & Background\n",
    "\n",
    "The goal for this project is to try train a model that can forecast Amazon's stock values using Machine Learning given previous stock data."
   ]
  },
  {
   "cell_type": "markdown",
   "metadata": {},
   "source": [
    "### Conclusions\n",
    "LSTM performs better than the Logistic Regression model.\n",
    "Reasons:\n",
    "    - prediction values are closer to the actual close values\n",
    "    - lower RSME"
   ]
  },
  {
   "cell_type": "markdown",
   "metadata": {},
   "source": [
    "### Next Steps\n",
    "Next step would be to do more tests on LSTM batch sizes and epoch sizes. Due to lengthy training time for the LSTM  it was hard to test more of these values. Also, how the model performs on current, daily updated values. "
   ]
  },
  {
   "cell_type": "markdown",
   "metadata": {},
   "source": [
    "## <font color=\"blue\">Data Exploration and Preparation</font>"
   ]
  },
  {
   "cell_type": "markdown",
   "metadata": {},
   "source": [
    "### Sources\n",
    "For this project I combined two datasets. One from Kaggle that includes stock price from 2010 to 2016. Another from the offical NASDAQ website to get stock prices up to 2019. \n",
    "\n",
    "Kaggle.com: prices-split-adjusted.csv - open/close/low/high of amazon stock from 2014-2016\n",
    "Nasdaq.com: historicalquotes.csv - csv from a 3 year timeframe from NASDAQ 2017-present"
   ]
  },
  {
   "cell_type": "code",
   "execution_count": 1,
   "metadata": {},
   "outputs": [],
   "source": [
    "# Data file location\n",
    "amzn_stock = '../stock_market_ML_project/amzn_stock_price.csv'"
   ]
  },
  {
   "cell_type": "code",
   "execution_count": 2,
   "metadata": {},
   "outputs": [],
   "source": [
    "# Import libraries\n",
    "import pandas as pd\n",
    "import numpy as np\n",
    "import matplotlib.pyplot as plt\n",
    "import seaborn as sns\n",
    "from sklearn.model_selection import train_test_split\n",
    "from sklearn.preprocessing import *\n",
    "from sklearn import metrics"
   ]
  },
  {
   "cell_type": "code",
   "execution_count": 3,
   "metadata": {},
   "outputs": [
    {
     "data": {
      "text/html": [
       "<div>\n",
       "<style scoped>\n",
       "    .dataframe tbody tr th:only-of-type {\n",
       "        vertical-align: middle;\n",
       "    }\n",
       "\n",
       "    .dataframe tbody tr th {\n",
       "        vertical-align: top;\n",
       "    }\n",
       "\n",
       "    .dataframe thead th {\n",
       "        text-align: right;\n",
       "    }\n",
       "</style>\n",
       "<table border=\"1\" class=\"dataframe\">\n",
       "  <thead>\n",
       "    <tr style=\"text-align: right;\">\n",
       "      <th></th>\n",
       "      <th>Unnamed: 0</th>\n",
       "      <th>date</th>\n",
       "      <th>symbol</th>\n",
       "      <th>open</th>\n",
       "      <th>close</th>\n",
       "      <th>low</th>\n",
       "      <th>high</th>\n",
       "      <th>volume</th>\n",
       "    </tr>\n",
       "  </thead>\n",
       "  <tbody>\n",
       "    <tr>\n",
       "      <th>0</th>\n",
       "      <td>284</td>\n",
       "      <td>2010-01-04</td>\n",
       "      <td>AMZN</td>\n",
       "      <td>136.250000</td>\n",
       "      <td>133.899994</td>\n",
       "      <td>133.139999</td>\n",
       "      <td>136.610001</td>\n",
       "      <td>7599900</td>\n",
       "    </tr>\n",
       "    <tr>\n",
       "      <th>1</th>\n",
       "      <td>751</td>\n",
       "      <td>2010-01-05</td>\n",
       "      <td>AMZN</td>\n",
       "      <td>133.429993</td>\n",
       "      <td>134.690002</td>\n",
       "      <td>131.809998</td>\n",
       "      <td>135.479996</td>\n",
       "      <td>8851900</td>\n",
       "    </tr>\n",
       "    <tr>\n",
       "      <th>2</th>\n",
       "      <td>1219</td>\n",
       "      <td>2010-01-06</td>\n",
       "      <td>AMZN</td>\n",
       "      <td>134.600006</td>\n",
       "      <td>132.250000</td>\n",
       "      <td>131.649994</td>\n",
       "      <td>134.729996</td>\n",
       "      <td>7178800</td>\n",
       "    </tr>\n",
       "    <tr>\n",
       "      <th>3</th>\n",
       "      <td>1687</td>\n",
       "      <td>2010-01-07</td>\n",
       "      <td>AMZN</td>\n",
       "      <td>132.009995</td>\n",
       "      <td>130.000000</td>\n",
       "      <td>128.800003</td>\n",
       "      <td>132.320007</td>\n",
       "      <td>11030200</td>\n",
       "    </tr>\n",
       "    <tr>\n",
       "      <th>4</th>\n",
       "      <td>2155</td>\n",
       "      <td>2010-01-08</td>\n",
       "      <td>AMZN</td>\n",
       "      <td>130.559998</td>\n",
       "      <td>133.520004</td>\n",
       "      <td>129.029999</td>\n",
       "      <td>133.679993</td>\n",
       "      <td>9830500</td>\n",
       "    </tr>\n",
       "  </tbody>\n",
       "</table>\n",
       "</div>"
      ],
      "text/plain": [
       "   Unnamed: 0        date symbol        open       close         low  \\\n",
       "0         284  2010-01-04   AMZN  136.250000  133.899994  133.139999   \n",
       "1         751  2010-01-05   AMZN  133.429993  134.690002  131.809998   \n",
       "2        1219  2010-01-06   AMZN  134.600006  132.250000  131.649994   \n",
       "3        1687  2010-01-07   AMZN  132.009995  130.000000  128.800003   \n",
       "4        2155  2010-01-08   AMZN  130.559998  133.520004  129.029999   \n",
       "\n",
       "         high    volume  \n",
       "0  136.610001   7599900  \n",
       "1  135.479996   8851900  \n",
       "2  134.729996   7178800  \n",
       "3  132.320007  11030200  \n",
       "4  133.679993   9830500  "
      ]
     },
     "execution_count": 3,
     "metadata": {},
     "output_type": "execute_result"
    }
   ],
   "source": [
    "# create dataframe\n",
    "amzn_stock_df = pd.read_csv(amzn_stock)\n",
    "amzn_stock_df.head()"
   ]
  },
  {
   "cell_type": "code",
   "execution_count": 4,
   "metadata": {},
   "outputs": [],
   "source": [
    "# drop insignificant columns and set date as index\n",
    "amzn_stock_df = amzn_stock_df.drop([amzn_stock_df.columns[0]], axis=1)\n",
    "amzn_stock_df['date'] = pd.to_datetime(amzn_stock_df['date'],format='%Y-%m-%d')\n",
    "amzn_stock_df.index = amzn_stock_df['date']\n",
    "amzn_stock_df = amzn_stock_df.drop(amzn_stock_df[['date','symbol']], axis=1)"
   ]
  },
  {
   "cell_type": "code",
   "execution_count": 5,
   "metadata": {},
   "outputs": [
    {
     "name": "stderr",
     "output_type": "stream",
     "text": [
      "/Users/michaelmerani/anaconda/lib/python3.6/site-packages/pandas/plotting/_converter.py:129: FutureWarning: Using an implicitly registered datetime converter for a matplotlib plotting method. The converter was registered by pandas on import. Future versions of pandas will require you to explicitly register matplotlib converters.\n",
      "\n",
      "To register the converters:\n",
      "\t>>> from pandas.plotting import register_matplotlib_converters\n",
      "\t>>> register_matplotlib_converters()\n",
      "  warnings.warn(msg, FutureWarning)\n"
     ]
    },
    {
     "data": {
      "image/png": "[encoded data removed]",
      "text/plain": [
       "<Figure size 432x288 with 1 Axes>"
      ]
     },
     "metadata": {
      "needs_background": "light"
     },
     "output_type": "display_data"
    }
   ],
   "source": [
    "#plotting 'close' from dataset. This is our dependant variable.\n",
    "plt.plot(amzn_stock_df['close'])\n",
    "plt.title('Amazon close price history')\n",
    "plt.xlabel('Years')\n",
    "plt.ylabel('Price')\n",
    "plt.show()"
   ]
  },
  {
   "cell_type": "code",
   "execution_count": 6,
   "metadata": {},
   "outputs": [
    {
     "data": {
      "image/png": "[encoded data removed]",
      "text/plain": [
       "<Figure size 432x288 with 1 Axes>"
      ]
     },
     "metadata": {
      "needs_background": "light"
     },
     "output_type": "display_data"
    }
   ],
   "source": [
    "plt.plot(amzn_stock_df['volume'])\n",
    "plt.title('Amazon volume history')\n",
    "plt.xlabel('Years')\n",
    "plt.ylabel('Volume')\n",
    "plt.show()"
   ]
  },
  {
   "cell_type": "markdown",
   "metadata": {},
   "source": [
    "### Data Exploration Summary\n"
   ]
  },
  {
   "cell_type": "markdown",
   "metadata": {},
   "source": [
    "Above is the graphical representation of the datasets of Amazon stock that I combined. The first chart shows the increase in close price from 2010-2019. We see a steady increase throughout with the most rapid increase happening mid 2017 - mid 2018. The second shows the volume of stocks per day through 2010-2019."
   ]
  },
  {
   "cell_type": "markdown",
   "metadata": {},
   "source": [
    "## <font color=\"blue\">Feature Engineering and Selection</font>"
   ]
  },
  {
   "cell_type": "markdown",
   "metadata": {},
   "source": [
    "Going forward I will be using the open, low, high and volume values to predict close values. I will then normalize (min-max) the values and add them to the dataframe as shown below. "
   ]
  },
  {
   "cell_type": "code",
   "execution_count": 7,
   "metadata": {},
   "outputs": [],
   "source": [
    "# method for normalizing dataframe columns (min-max normalization)\n",
    "from sklearn.preprocessing import MinMaxScaler\n",
    "\n",
    "def normalize_min_max(column):\n",
    "    \n",
    "    x = pd.DataFrame(column)\n",
    "    minmax_scale = MinMaxScaler().fit(x)\n",
    "    y = minmax_scale.transform(x)\n",
    "    \n",
    "    return y"
   ]
  },
  {
   "cell_type": "code",
   "execution_count": 8,
   "metadata": {},
   "outputs": [
    {
     "name": "stderr",
     "output_type": "stream",
     "text": [
      "/Users/michaelmerani/anaconda/lib/python3.6/site-packages/sklearn/preprocessing/data.py:334: DataConversionWarning: Data with input dtype int64 were all converted to float64 by MinMaxScaler.\n",
      "  return self.partial_fit(X, y)\n"
     ]
    },
    {
     "data": {
      "text/html": [
       "<div>\n",
       "<style scoped>\n",
       "    .dataframe tbody tr th:only-of-type {\n",
       "        vertical-align: middle;\n",
       "    }\n",
       "\n",
       "    .dataframe tbody tr th {\n",
       "        vertical-align: top;\n",
       "    }\n",
       "\n",
       "    .dataframe thead th {\n",
       "        text-align: right;\n",
       "    }\n",
       "</style>\n",
       "<table border=\"1\" class=\"dataframe\">\n",
       "  <thead>\n",
       "    <tr style=\"text-align: right;\">\n",
       "      <th></th>\n",
       "      <th>open</th>\n",
       "      <th>close</th>\n",
       "      <th>low</th>\n",
       "      <th>high</th>\n",
       "      <th>volume</th>\n",
       "      <th>normalized_open</th>\n",
       "      <th>normalized_close</th>\n",
       "      <th>normalized_low</th>\n",
       "      <th>normalized_high</th>\n",
       "      <th>normalized_volume</th>\n",
       "    </tr>\n",
       "    <tr>\n",
       "      <th>date</th>\n",
       "      <th></th>\n",
       "      <th></th>\n",
       "      <th></th>\n",
       "      <th></th>\n",
       "      <th></th>\n",
       "      <th></th>\n",
       "      <th></th>\n",
       "      <th></th>\n",
       "      <th></th>\n",
       "      <th></th>\n",
       "    </tr>\n",
       "  </thead>\n",
       "  <tbody>\n",
       "    <tr>\n",
       "      <th>2010-01-04</th>\n",
       "      <td>136.250000</td>\n",
       "      <td>133.899994</td>\n",
       "      <td>133.139999</td>\n",
       "      <td>136.610001</td>\n",
       "      <td>7599900</td>\n",
       "      <td>0.015692</td>\n",
       "      <td>0.013098</td>\n",
       "      <td>0.014335</td>\n",
       "      <td>0.013057</td>\n",
       "      <td>0.159653</td>\n",
       "    </tr>\n",
       "    <tr>\n",
       "      <th>2010-01-05</th>\n",
       "      <td>133.429993</td>\n",
       "      <td>134.690002</td>\n",
       "      <td>131.809998</td>\n",
       "      <td>135.479996</td>\n",
       "      <td>8851900</td>\n",
       "      <td>0.014233</td>\n",
       "      <td>0.013507</td>\n",
       "      <td>0.013638</td>\n",
       "      <td>0.012474</td>\n",
       "      <td>0.189868</td>\n",
       "    </tr>\n",
       "    <tr>\n",
       "      <th>2010-01-06</th>\n",
       "      <td>134.600006</td>\n",
       "      <td>132.250000</td>\n",
       "      <td>131.649994</td>\n",
       "      <td>134.729996</td>\n",
       "      <td>7178800</td>\n",
       "      <td>0.014838</td>\n",
       "      <td>0.012243</td>\n",
       "      <td>0.013554</td>\n",
       "      <td>0.012087</td>\n",
       "      <td>0.149491</td>\n",
       "    </tr>\n",
       "    <tr>\n",
       "      <th>2010-01-07</th>\n",
       "      <td>132.009995</td>\n",
       "      <td>130.000000</td>\n",
       "      <td>128.800003</td>\n",
       "      <td>132.320007</td>\n",
       "      <td>11030200</td>\n",
       "      <td>0.013498</td>\n",
       "      <td>0.011078</td>\n",
       "      <td>0.012060</td>\n",
       "      <td>0.010845</td>\n",
       "      <td>0.242437</td>\n",
       "    </tr>\n",
       "    <tr>\n",
       "      <th>2010-01-08</th>\n",
       "      <td>130.559998</td>\n",
       "      <td>133.520004</td>\n",
       "      <td>129.029999</td>\n",
       "      <td>133.679993</td>\n",
       "      <td>9830500</td>\n",
       "      <td>0.012747</td>\n",
       "      <td>0.012901</td>\n",
       "      <td>0.012180</td>\n",
       "      <td>0.011546</td>\n",
       "      <td>0.213485</td>\n",
       "    </tr>\n",
       "  </tbody>\n",
       "</table>\n",
       "</div>"
      ],
      "text/plain": [
       "                  open       close         low        high    volume  \\\n",
       "date                                                                   \n",
       "2010-01-04  136.250000  133.899994  133.139999  136.610001   7599900   \n",
       "2010-01-05  133.429993  134.690002  131.809998  135.479996   8851900   \n",
       "2010-01-06  134.600006  132.250000  131.649994  134.729996   7178800   \n",
       "2010-01-07  132.009995  130.000000  128.800003  132.320007  11030200   \n",
       "2010-01-08  130.559998  133.520004  129.029999  133.679993   9830500   \n",
       "\n",
       "            normalized_open  normalized_close  normalized_low  \\\n",
       "date                                                            \n",
       "2010-01-04         0.015692          0.013098        0.014335   \n",
       "2010-01-05         0.014233          0.013507        0.013638   \n",
       "2010-01-06         0.014838          0.012243        0.013554   \n",
       "2010-01-07         0.013498          0.011078        0.012060   \n",
       "2010-01-08         0.012747          0.012901        0.012180   \n",
       "\n",
       "            normalized_high  normalized_volume  \n",
       "date                                            \n",
       "2010-01-04         0.013057           0.159653  \n",
       "2010-01-05         0.012474           0.189868  \n",
       "2010-01-06         0.012087           0.149491  \n",
       "2010-01-07         0.010845           0.242437  \n",
       "2010-01-08         0.011546           0.213485  "
      ]
     },
     "execution_count": 8,
     "metadata": {},
     "output_type": "execute_result"
    }
   ],
   "source": [
    "#normalize data\n",
    "amzn_stock_df['normalized_open'] = normalize_min_max(amzn_stock_df['open'])\n",
    "amzn_stock_df['normalized_close'] = normalize_min_max(amzn_stock_df['close'])\n",
    "amzn_stock_df['normalized_low'] = normalize_min_max(amzn_stock_df['low'])\n",
    "amzn_stock_df['normalized_high'] = normalize_min_max(amzn_stock_df['high'])\n",
    "amzn_stock_df['normalized_volume'] = normalize_min_max(amzn_stock_df['volume'])\n",
    "\n",
    "amzn_stock_df.head()"
   ]
  },
  {
   "cell_type": "code",
   "execution_count": 9,
   "metadata": {},
   "outputs": [],
   "source": [
    "#switch columns so that close is last\n",
    "cols = list(amzn_stock_df.columns)\n",
    "a, b = cols.index('normalized_close'), cols.index('normalized_volume')\n",
    "cols[b], cols[a] = cols[a], cols[b]\n",
    "amzn_stock_df = amzn_stock_df[cols]"
   ]
  },
  {
   "cell_type": "markdown",
   "metadata": {},
   "source": [
    "## <font color=\"blue\">Data Models</font>"
   ]
  },
  {
   "cell_type": "markdown",
   "metadata": {},
   "source": [
    "### Linear Regression Model"
   ]
  },
  {
   "cell_type": "markdown",
   "metadata": {},
   "source": [
    "The first model I tried was Linear Regression. With this model I am trying to forecast 30 days of stock close prices. First, I make a copy of the dataframe so I can make some changes. Then I add a new column, 'prediction', that will have space for my prediction values. My features will be open, high, low, and volume all normalized. My target will be close values for the last 30 days. "
   ]
  },
  {
   "cell_type": "code",
   "execution_count": 10,
   "metadata": {},
   "outputs": [],
   "source": [
    "df_copy = amzn_stock_df.copy()\n",
    "# create new column for prediction. Predicting last 30 days of stock 'close' prices\n",
    "df_copy['prediction'] = df_copy[['normalized_close']].shift(-30)\n",
    "X = df_copy.iloc[:,5:9]"
   ]
  },
  {
   "cell_type": "code",
   "execution_count": 11,
   "metadata": {},
   "outputs": [],
   "source": [
    "# hold values for forecasting\n",
    "X_forecast = X[-30:]\n",
    "# do not include values for the last 30 rows\n",
    "X = X[:-30]\n",
    "#set dependant variable\n",
    "y = np.array(df_copy['prediction'])\n",
    "y = y[:-30]\n",
    "# split data for testing and training\n",
    "X_train_lr, X_test_lr, y_train_lr, y_test_lr = train_test_split(X, y, test_size = 0.2)"
   ]
  },
  {
   "cell_type": "code",
   "execution_count": 12,
   "metadata": {},
   "outputs": [
    {
     "data": {
      "text/plain": [
       "LinearRegression(copy_X=True, fit_intercept=True, n_jobs=None,\n",
       "         normalize=False)"
      ]
     },
     "execution_count": 12,
     "metadata": {},
     "output_type": "execute_result"
    }
   ],
   "source": [
    "# create model\n",
    "from sklearn.linear_model import LinearRegression\n",
    "lr = LinearRegression()\n",
    "lr.fit(X_train_lr,y_train_lr)"
   ]
  },
  {
   "cell_type": "markdown",
   "metadata": {},
   "source": [
    "### LSTM Model"
   ]
  },
  {
   "cell_type": "markdown",
   "metadata": {},
   "source": [
    "After some research I found that LSTM models have the best results for stock prediction so I decided to use that as my second model. My LSTM consists of LSTM layers with 256 units and .5 dropout. Then 2 Dense layers, one as 'relu' and one 'sigmoid'. Then I build the model with a window of 30 which will look back at prevous 30 days. "
   ]
  },
  {
   "cell_type": "code",
   "execution_count": null,
   "metadata": {},
   "outputs": [],
   "source": [
    "#pip install keras\n",
    "#pip install tensorflow"
   ]
  },
  {
   "cell_type": "code",
   "execution_count": 13,
   "metadata": {},
   "outputs": [
    {
     "name": "stderr",
     "output_type": "stream",
     "text": [
      "Using TensorFlow backend.\n"
     ]
    }
   ],
   "source": [
    "from keras.models import Sequential\n",
    "from keras.layers.core import Dense, Dropout, Activation\n",
    "from keras.layers.recurrent import LSTM\n",
    "from keras.models import load_model\n",
    "import keras"
   ]
  },
  {
   "cell_type": "code",
   "execution_count": 14,
   "metadata": {},
   "outputs": [],
   "source": [
    "def test_train_split_data(stock, seq_len):\n",
    "    amount_of_features = len(stock.columns)\n",
    "    data = stock.values \n",
    "    sequence_length = seq_len + 1 \n",
    "    result = []\n",
    "    \n",
    "    for index in range(len(data) - sequence_length): # maxmimum date = lastest date - sequence length\n",
    "        result.append(data[index: index + sequence_length]) # index : index + 22days\n",
    "    \n",
    "    result = np.array(result)\n",
    "    \n",
    "    row = round(0.8 * result.shape[0]) # 80% split\n",
    "    train = result[:int(row), :] # 80% date, all features \n",
    "    x_train = train[:, :-1] \n",
    "    y_train = train[:, -1][:,-1]\n",
    "    \n",
    "    x_test = result[int(row):, :-1] \n",
    "    y_test = result[int(row):, -1][:,-1]\n",
    "\n",
    "    x_train = np.reshape(x_train, (x_train.shape[0], x_train.shape[1], amount_of_features))\n",
    "    x_test = np.reshape(x_test, (x_test.shape[0], x_test.shape[1], amount_of_features))  \n",
    "\n",
    "    return [x_train, y_train, x_test, y_test]"
   ]
  },
  {
   "cell_type": "code",
   "execution_count": 15,
   "metadata": {},
   "outputs": [],
   "source": [
    "def build_model(layers):\n",
    "    d = 0.5\n",
    "    model = Sequential()\n",
    "    \n",
    "    model.add(LSTM(256, input_shape=(layers[1], layers[0]), return_sequences=True))\n",
    "    model.add(Dropout(d))\n",
    "        \n",
    "    model.add(LSTM(256, input_shape=(layers[1], layers[0]), return_sequences=False))\n",
    "    model.add(Dropout(d))\n",
    "\n",
    "    model.add(Dense(32,kernel_initializer=\"uniform\",activation='relu'))        \n",
    "    model.add(Dense(1,kernel_initializer=\"uniform\",activation='linear'))\n",
    "\n",
    "    model.compile(loss='mse',optimizer='adam', metrics=['accuracy'])\n",
    "    \n",
    "    return model"
   ]
  },
  {
   "cell_type": "code",
   "execution_count": 16,
   "metadata": {},
   "outputs": [],
   "source": [
    "X = amzn_stock_df.iloc[:,5:10]\n",
    "window = 30\n",
    "X_train, y_train, X_test, y_test = test_train_split_data(X, window)"
   ]
  },
  {
   "cell_type": "code",
   "execution_count": 17,
   "metadata": {},
   "outputs": [
    {
     "name": "stdout",
     "output_type": "stream",
     "text": [
      "WARNING:tensorflow:From /Users/michaelmerani/anaconda/lib/python3.6/site-packages/tensorflow/python/framework/op_def_library.py:263: colocate_with (from tensorflow.python.framework.ops) is deprecated and will be removed in a future version.\n",
      "Instructions for updating:\n",
      "Colocations handled automatically by placer.\n",
      "WARNING:tensorflow:From /Users/michaelmerani/anaconda/lib/python3.6/site-packages/keras/backend/tensorflow_backend.py:3445: calling dropout (from tensorflow.python.ops.nn_ops) with keep_prob is deprecated and will be removed in a future version.\n",
      "Instructions for updating:\n",
      "Please use `rate` instead of `keep_prob`. Rate should be set to `rate = 1 - keep_prob`.\n"
     ]
    }
   ],
   "source": [
    "lstm = build_model([5,window,1])"
   ]
  },
  {
   "cell_type": "code",
   "execution_count": 18,
   "metadata": {},
   "outputs": [
    {
     "name": "stdout",
     "output_type": "stream",
     "text": [
      "WARNING:tensorflow:From /Users/michaelmerani/anaconda/lib/python3.6/site-packages/tensorflow/python/ops/math_ops.py:3066: to_int32 (from tensorflow.python.ops.math_ops) is deprecated and will be removed in a future version.\n",
      "Instructions for updating:\n",
      "Use tf.cast instead.\n",
      "Train on 1675 samples, validate on 187 samples\n",
      "Epoch 1/90\n",
      "1675/1675 [==============================] - 9s 6ms/step - loss: 0.0193 - acc: 5.9701e-04 - val_loss: 0.0960 - val_acc: 0.0000e+00\n",
      "Epoch 2/90\n",
      "1675/1675 [==============================] - 7s 4ms/step - loss: 0.0075 - acc: 5.9701e-04 - val_loss: 0.0219 - val_acc: 0.0000e+00\n",
      "Epoch 3/90\n",
      "1675/1675 [==============================] - 7s 4ms/step - loss: 0.0030 - acc: 5.9701e-04 - val_loss: 0.0262 - val_acc: 0.0000e+00\n",
      "Epoch 4/90\n",
      "1675/1675 [==============================] - 7s 4ms/step - loss: 0.0016 - acc: 5.9701e-04 - val_loss: 0.0012 - val_acc: 0.0000e+00\n",
      "Epoch 5/90\n",
      "1675/1675 [==============================] - 8s 5ms/step - loss: 9.0535e-04 - acc: 5.9701e-04 - val_loss: 0.0094 - val_acc: 0.0000e+00\n",
      "Epoch 6/90\n",
      "1675/1675 [==============================] - 8s 5ms/step - loss: 6.3906e-04 - acc: 5.9701e-04 - val_loss: 0.0014 - val_acc: 0.0000e+00\n",
      "Epoch 7/90\n",
      "1675/1675 [==============================] - 8s 5ms/step - loss: 4.4848e-04 - acc: 5.9701e-04 - val_loss: 0.0021 - val_acc: 0.0000e+00\n",
      "Epoch 8/90\n",
      "1675/1675 [==============================] - 8s 5ms/step - loss: 3.5250e-04 - acc: 5.9701e-04 - val_loss: 5.6004e-04 - val_acc: 0.0000e+00\n",
      "Epoch 9/90\n",
      "1675/1675 [==============================] - 8s 5ms/step - loss: 3.0523e-04 - acc: 5.9701e-04 - val_loss: 0.0021 - val_acc: 0.0000e+00\n",
      "Epoch 10/90\n",
      "1675/1675 [==============================] - 8s 5ms/step - loss: 3.3019e-04 - acc: 5.9701e-04 - val_loss: 3.7933e-04 - val_acc: 0.0000e+00\n",
      "Epoch 11/90\n",
      "1675/1675 [==============================] - 8s 5ms/step - loss: 2.8068e-04 - acc: 5.9701e-04 - val_loss: 0.0014 - val_acc: 0.0000e+00\n",
      "Epoch 12/90\n",
      "1675/1675 [==============================] - 8s 5ms/step - loss: 2.7447e-04 - acc: 5.9701e-04 - val_loss: 4.0255e-04 - val_acc: 0.0000e+00\n",
      "Epoch 13/90\n",
      "1675/1675 [==============================] - 8s 5ms/step - loss: 2.7948e-04 - acc: 5.9701e-04 - val_loss: 5.9322e-04 - val_acc: 0.0000e+00\n",
      "Epoch 14/90\n",
      "1675/1675 [==============================] - 8s 5ms/step - loss: 2.2593e-04 - acc: 5.9701e-04 - val_loss: 2.9290e-04 - val_acc: 0.0000e+00\n",
      "Epoch 15/90\n",
      "1675/1675 [==============================] - 8s 5ms/step - loss: 2.3132e-04 - acc: 5.9701e-04 - val_loss: 3.5133e-04 - val_acc: 0.0000e+00\n",
      "Epoch 16/90\n",
      "1675/1675 [==============================] - 8s 5ms/step - loss: 2.2245e-04 - acc: 5.9701e-04 - val_loss: 2.5033e-04 - val_acc: 0.0000e+00\n",
      "Epoch 17/90\n",
      "1675/1675 [==============================] - 8s 5ms/step - loss: 2.0159e-04 - acc: 5.9701e-04 - val_loss: 4.3680e-04 - val_acc: 0.0000e+00\n",
      "Epoch 18/90\n",
      "1675/1675 [==============================] - 8s 5ms/step - loss: 2.1806e-04 - acc: 5.9701e-04 - val_loss: 2.7839e-04 - val_acc: 0.0000e+00\n",
      "Epoch 19/90\n",
      "1675/1675 [==============================] - 10s 6ms/step - loss: 2.0355e-04 - acc: 5.9701e-04 - val_loss: 3.8783e-04 - val_acc: 0.0000e+00\n",
      "Epoch 20/90\n",
      "1675/1675 [==============================] - 9s 5ms/step - loss: 2.1327e-04 - acc: 5.9701e-04 - val_loss: 2.7049e-04 - val_acc: 0.0000e+00\n",
      "Epoch 21/90\n",
      "1675/1675 [==============================] - 8s 5ms/step - loss: 2.0292e-04 - acc: 5.9701e-04 - val_loss: 5.2344e-04 - val_acc: 0.0000e+00\n",
      "Epoch 22/90\n",
      "1675/1675 [==============================] - 8s 5ms/step - loss: 2.0880e-04 - acc: 5.9701e-04 - val_loss: 2.2324e-04 - val_acc: 0.0000e+00\n",
      "Epoch 23/90\n",
      "1675/1675 [==============================] - 9s 5ms/step - loss: 1.9050e-04 - acc: 5.9701e-04 - val_loss: 7.8392e-04 - val_acc: 0.0000e+00\n",
      "Epoch 24/90\n",
      "1675/1675 [==============================] - 9s 5ms/step - loss: 2.2284e-04 - acc: 5.9701e-04 - val_loss: 2.4623e-04 - val_acc: 0.0000e+00\n",
      "Epoch 25/90\n",
      "1675/1675 [==============================] - 9s 5ms/step - loss: 2.0091e-04 - acc: 5.9701e-04 - val_loss: 2.9588e-04 - val_acc: 0.0000e+00\n",
      "Epoch 26/90\n",
      "1675/1675 [==============================] - 8s 5ms/step - loss: 1.9464e-04 - acc: 5.9701e-04 - val_loss: 3.5370e-04 - val_acc: 0.0000e+00\n",
      "Epoch 27/90\n",
      "1675/1675 [==============================] - 9s 5ms/step - loss: 1.9276e-04 - acc: 5.9701e-04 - val_loss: 2.3537e-04 - val_acc: 0.0000e+00\n",
      "Epoch 28/90\n",
      "1675/1675 [==============================] - 8s 5ms/step - loss: 1.9941e-04 - acc: 5.9701e-04 - val_loss: 3.5518e-04 - val_acc: 0.0000e+00\n",
      "Epoch 29/90\n",
      "1675/1675 [==============================] - 9s 5ms/step - loss: 2.0455e-04 - acc: 5.9701e-04 - val_loss: 2.2372e-04 - val_acc: 0.0000e+00\n",
      "Epoch 30/90\n",
      "1675/1675 [==============================] - 9s 5ms/step - loss: 1.9370e-04 - acc: 5.9701e-04 - val_loss: 2.0456e-04 - val_acc: 0.0000e+00\n",
      "Epoch 31/90\n",
      "1675/1675 [==============================] - 9s 5ms/step - loss: 1.8371e-04 - acc: 5.9701e-04 - val_loss: 2.2840e-04 - val_acc: 0.0000e+00\n",
      "Epoch 32/90\n",
      "1675/1675 [==============================] - 8s 5ms/step - loss: 1.8189e-04 - acc: 5.9701e-04 - val_loss: 1.8714e-04 - val_acc: 0.0000e+00\n",
      "Epoch 33/90\n",
      "1675/1675 [==============================] - 8s 5ms/step - loss: 1.7647e-04 - acc: 5.9701e-04 - val_loss: 3.5868e-04 - val_acc: 0.0000e+00\n",
      "Epoch 34/90\n",
      "1675/1675 [==============================] - 8s 5ms/step - loss: 1.7148e-04 - acc: 5.9701e-04 - val_loss: 1.9304e-04 - val_acc: 0.0000e+00\n",
      "Epoch 35/90\n",
      "1675/1675 [==============================] - 8s 5ms/step - loss: 1.7923e-04 - acc: 5.9701e-04 - val_loss: 1.7206e-04 - val_acc: 0.0000e+00\n",
      "Epoch 36/90\n",
      "1675/1675 [==============================] - 8s 5ms/step - loss: 1.8496e-04 - acc: 5.9701e-04 - val_loss: 4.5228e-04 - val_acc: 0.0000e+00\n",
      "Epoch 37/90\n",
      "1675/1675 [==============================] - 8s 5ms/step - loss: 1.8590e-04 - acc: 5.9701e-04 - val_loss: 3.1775e-04 - val_acc: 0.0000e+00\n",
      "Epoch 38/90\n",
      "1675/1675 [==============================] - 9s 5ms/step - loss: 1.8543e-04 - acc: 5.9701e-04 - val_loss: 3.9932e-04 - val_acc: 0.0000e+00\n",
      "Epoch 39/90\n",
      "1675/1675 [==============================] - 9s 5ms/step - loss: 2.0305e-04 - acc: 5.9701e-04 - val_loss: 1.9783e-04 - val_acc: 0.0000e+00\n",
      "Epoch 40/90\n",
      "1675/1675 [==============================] - 9s 5ms/step - loss: 1.8222e-04 - acc: 5.9701e-04 - val_loss: 2.1088e-04 - val_acc: 0.0000e+00\n",
      "Epoch 41/90\n",
      "1675/1675 [==============================] - 8s 5ms/step - loss: 1.7758e-04 - acc: 5.9701e-04 - val_loss: 1.6372e-04 - val_acc: 0.0000e+00\n",
      "Epoch 42/90\n",
      "1675/1675 [==============================] - 9s 5ms/step - loss: 1.6125e-04 - acc: 5.9701e-04 - val_loss: 1.9969e-04 - val_acc: 0.0000e+00\n",
      "Epoch 43/90\n",
      "1675/1675 [==============================] - 9s 5ms/step - loss: 1.8037e-04 - acc: 5.9701e-04 - val_loss: 4.6795e-04 - val_acc: 0.0000e+00\n",
      "Epoch 44/90\n",
      "1675/1675 [==============================] - 8s 5ms/step - loss: 1.7074e-04 - acc: 5.9701e-04 - val_loss: 2.0189e-04 - val_acc: 0.0000e+00\n",
      "Epoch 45/90\n",
      "1675/1675 [==============================] - 8s 5ms/step - loss: 1.6666e-04 - acc: 5.9701e-04 - val_loss: 1.7498e-04 - val_acc: 0.0000e+00\n",
      "Epoch 46/90\n",
      "1675/1675 [==============================] - 9s 5ms/step - loss: 1.6459e-04 - acc: 5.9701e-04 - val_loss: 1.9217e-04 - val_acc: 0.0000e+00\n",
      "Epoch 47/90\n",
      "1675/1675 [==============================] - 9s 5ms/step - loss: 1.6243e-04 - acc: 5.9701e-04 - val_loss: 3.1192e-04 - val_acc: 0.0000e+00\n",
      "Epoch 48/90\n",
      "1675/1675 [==============================] - 9s 5ms/step - loss: 1.5270e-04 - acc: 5.9701e-04 - val_loss: 2.1864e-04 - val_acc: 0.0000e+00\n",
      "Epoch 49/90\n",
      "1675/1675 [==============================] - 9s 5ms/step - loss: 1.8068e-04 - acc: 5.9701e-04 - val_loss: 1.4644e-04 - val_acc: 0.0000e+00\n",
      "Epoch 50/90\n",
      "1675/1675 [==============================] - 10s 6ms/step - loss: 1.7461e-04 - acc: 5.9701e-04 - val_loss: 3.2908e-04 - val_acc: 0.0000e+00\n",
      "Epoch 51/90\n",
      "1675/1675 [==============================] - 9s 5ms/step - loss: 1.6099e-04 - acc: 5.9701e-04 - val_loss: 1.4482e-04 - val_acc: 0.0000e+00\n",
      "Epoch 52/90\n",
      "1675/1675 [==============================] - 9s 5ms/step - loss: 1.7609e-04 - acc: 5.9701e-04 - val_loss: 2.9122e-04 - val_acc: 0.0000e+00\n",
      "Epoch 53/90\n"
     ]
    },
    {
     "name": "stdout",
     "output_type": "stream",
     "text": [
      "1675/1675 [==============================] - 9s 5ms/step - loss: 1.6685e-04 - acc: 5.9701e-04 - val_loss: 3.2399e-04 - val_acc: 0.0000e+00\n",
      "Epoch 54/90\n",
      "1675/1675 [==============================] - 9s 5ms/step - loss: 1.5766e-04 - acc: 5.9701e-04 - val_loss: 3.9978e-04 - val_acc: 0.0000e+00\n",
      "Epoch 55/90\n",
      "1675/1675 [==============================] - 9s 5ms/step - loss: 1.7629e-04 - acc: 5.9701e-04 - val_loss: 2.3613e-04 - val_acc: 0.0000e+00\n",
      "Epoch 56/90\n",
      "1675/1675 [==============================] - 9s 5ms/step - loss: 1.7402e-04 - acc: 5.9701e-04 - val_loss: 1.4226e-04 - val_acc: 0.0000e+00\n",
      "Epoch 57/90\n",
      "1675/1675 [==============================] - 9s 5ms/step - loss: 1.6776e-04 - acc: 5.9701e-04 - val_loss: 4.3506e-04 - val_acc: 0.0000e+00\n",
      "Epoch 58/90\n",
      "1675/1675 [==============================] - 9s 5ms/step - loss: 1.6368e-04 - acc: 5.9701e-04 - val_loss: 1.8606e-04 - val_acc: 0.0000e+00\n",
      "Epoch 59/90\n",
      "1675/1675 [==============================] - 9s 5ms/step - loss: 1.6611e-04 - acc: 5.9701e-04 - val_loss: 1.5620e-04 - val_acc: 0.0000e+00\n",
      "Epoch 60/90\n",
      "1675/1675 [==============================] - 9s 5ms/step - loss: 1.4119e-04 - acc: 5.9701e-04 - val_loss: 1.4366e-04 - val_acc: 0.0000e+00\n",
      "Epoch 61/90\n",
      "1675/1675 [==============================] - 9s 5ms/step - loss: 1.4138e-04 - acc: 5.9701e-04 - val_loss: 2.6063e-04 - val_acc: 0.0000e+00\n",
      "Epoch 62/90\n",
      "1675/1675 [==============================] - 9s 5ms/step - loss: 1.4584e-04 - acc: 5.9701e-04 - val_loss: 1.3685e-04 - val_acc: 0.0000e+00\n",
      "Epoch 63/90\n",
      "1675/1675 [==============================] - 9s 5ms/step - loss: 1.5005e-04 - acc: 5.9701e-04 - val_loss: 1.3675e-04 - val_acc: 0.0000e+00\n",
      "Epoch 64/90\n",
      "1675/1675 [==============================] - 9s 5ms/step - loss: 1.5241e-04 - acc: 5.9701e-04 - val_loss: 1.3264e-04 - val_acc: 0.0000e+00\n",
      "Epoch 65/90\n",
      "1675/1675 [==============================] - 9s 5ms/step - loss: 1.6458e-04 - acc: 5.9701e-04 - val_loss: 3.3213e-04 - val_acc: 0.0000e+00\n",
      "Epoch 66/90\n",
      "1675/1675 [==============================] - 9s 5ms/step - loss: 1.5122e-04 - acc: 5.9701e-04 - val_loss: 1.3534e-04 - val_acc: 0.0000e+00\n",
      "Epoch 67/90\n",
      "1675/1675 [==============================] - 9s 5ms/step - loss: 1.8011e-04 - acc: 5.9701e-04 - val_loss: 1.2540e-04 - val_acc: 0.0000e+00\n",
      "Epoch 68/90\n",
      "1675/1675 [==============================] - 9s 5ms/step - loss: 1.4358e-04 - acc: 5.9701e-04 - val_loss: 1.6646e-04 - val_acc: 0.0000e+00\n",
      "Epoch 69/90\n",
      "1675/1675 [==============================] - 9s 5ms/step - loss: 1.7279e-04 - acc: 5.9701e-04 - val_loss: 1.2812e-04 - val_acc: 0.0000e+00\n",
      "Epoch 70/90\n",
      "1675/1675 [==============================] - 9s 5ms/step - loss: 1.5827e-04 - acc: 5.9701e-04 - val_loss: 1.7914e-04 - val_acc: 0.0000e+00\n",
      "Epoch 71/90\n",
      "1675/1675 [==============================] - 9s 5ms/step - loss: 1.3660e-04 - acc: 5.9701e-04 - val_loss: 2.1774e-04 - val_acc: 0.0000e+00\n",
      "Epoch 72/90\n",
      "1675/1675 [==============================] - 9s 5ms/step - loss: 1.5136e-04 - acc: 5.9701e-04 - val_loss: 3.0889e-04 - val_acc: 0.0000e+00\n",
      "Epoch 73/90\n",
      "1675/1675 [==============================] - 9s 5ms/step - loss: 1.6780e-04 - acc: 5.9701e-04 - val_loss: 1.2659e-04 - val_acc: 0.0000e+00\n",
      "Epoch 74/90\n",
      "1675/1675 [==============================] - 9s 5ms/step - loss: 1.4477e-04 - acc: 5.9701e-04 - val_loss: 4.4017e-04 - val_acc: 0.0000e+00\n",
      "Epoch 75/90\n",
      "1675/1675 [==============================] - 9s 5ms/step - loss: 1.5703e-04 - acc: 5.9701e-04 - val_loss: 1.2535e-04 - val_acc: 0.0000e+00\n",
      "Epoch 76/90\n",
      "1675/1675 [==============================] - 9s 5ms/step - loss: 1.5629e-04 - acc: 5.9701e-04 - val_loss: 2.6951e-04 - val_acc: 0.0000e+00\n",
      "Epoch 77/90\n",
      "1675/1675 [==============================] - 10s 6ms/step - loss: 1.5677e-04 - acc: 5.9701e-04 - val_loss: 1.4514e-04 - val_acc: 0.0000e+00\n",
      "Epoch 78/90\n",
      "1675/1675 [==============================] - 9s 5ms/step - loss: 1.4466e-04 - acc: 5.9701e-04 - val_loss: 8.4737e-04 - val_acc: 0.0000e+00\n",
      "Epoch 79/90\n",
      "1675/1675 [==============================] - 9s 5ms/step - loss: 1.6909e-04 - acc: 5.9701e-04 - val_loss: 2.2572e-04 - val_acc: 0.0000e+00\n",
      "Epoch 80/90\n",
      "1675/1675 [==============================] - 9s 5ms/step - loss: 1.6293e-04 - acc: 5.9701e-04 - val_loss: 6.3300e-04 - val_acc: 0.0000e+00\n",
      "Epoch 81/90\n",
      "1675/1675 [==============================] - 9s 5ms/step - loss: 1.9108e-04 - acc: 5.9701e-04 - val_loss: 4.3730e-04 - val_acc: 0.0000e+00\n",
      "Epoch 82/90\n",
      "1675/1675 [==============================] - 9s 5ms/step - loss: 1.6842e-04 - acc: 5.9701e-04 - val_loss: 4.0049e-04 - val_acc: 0.0000e+00\n",
      "Epoch 83/90\n",
      "1675/1675 [==============================] - 9s 5ms/step - loss: 1.8027e-04 - acc: 5.9701e-04 - val_loss: 2.7359e-04 - val_acc: 0.0000e+00\n",
      "Epoch 84/90\n",
      "1675/1675 [==============================] - 9s 5ms/step - loss: 1.7112e-04 - acc: 5.9701e-04 - val_loss: 1.6290e-04 - val_acc: 0.0000e+00\n",
      "Epoch 85/90\n",
      "1675/1675 [==============================] - 9s 5ms/step - loss: 1.5937e-04 - acc: 5.9701e-04 - val_loss: 7.0601e-04 - val_acc: 0.0000e+00\n",
      "Epoch 86/90\n",
      "1675/1675 [==============================] - 9s 5ms/step - loss: 1.6375e-04 - acc: 5.9701e-04 - val_loss: 3.6227e-04 - val_acc: 0.0000e+00\n",
      "Epoch 87/90\n",
      "1675/1675 [==============================] - 9s 5ms/step - loss: 1.6845e-04 - acc: 5.9701e-04 - val_loss: 1.1864e-04 - val_acc: 0.0000e+00\n",
      "Epoch 88/90\n",
      "1675/1675 [==============================] - 9s 5ms/step - loss: 1.6054e-04 - acc: 5.9701e-04 - val_loss: 0.0010 - val_acc: 0.0000e+00\n",
      "Epoch 89/90\n",
      "1675/1675 [==============================] - 9s 5ms/step - loss: 1.7033e-04 - acc: 5.9701e-04 - val_loss: 3.5624e-04 - val_acc: 0.0000e+00\n",
      "Epoch 90/90\n",
      "1675/1675 [==============================] - 9s 5ms/step - loss: 1.8607e-04 - acc: 5.9701e-04 - val_loss: 1.2404e-04 - val_acc: 0.0000e+00\n"
     ]
    },
    {
     "data": {
      "text/plain": [
       "<keras.callbacks.History at 0x137df79e8>"
      ]
     },
     "execution_count": 18,
     "metadata": {},
     "output_type": "execute_result"
    }
   ],
   "source": [
    "lstm.fit(X_train,y_train,batch_size=512,epochs=90,validation_split=0.1,verbose=1)"
   ]
  },
  {
   "cell_type": "markdown",
   "metadata": {},
   "source": [
    "## <font color=\"blue\">Model Evaluations</font>"
   ]
  },
  {
   "cell_type": "code",
   "execution_count": 19,
   "metadata": {},
   "outputs": [],
   "source": [
    "def denormalize(df, normalized_value): \n",
    "    df = df['close'].values.reshape(-1,1)\n",
    "    normalized_value = normalized_value.reshape(-1,1)\n",
    "    \n",
    "    minmax_scale = MinMaxScaler()\n",
    "    x = minmax_scale.fit_transform(df)\n",
    "    denorm = minmax_scale.inverse_transform(normalized_value)\n",
    "    return denorm"
   ]
  },
  {
   "cell_type": "markdown",
   "metadata": {},
   "source": [
    "### Linear Regression Evaluation"
   ]
  },
  {
   "cell_type": "code",
   "execution_count": 20,
   "metadata": {},
   "outputs": [],
   "source": [
    "#make predictions for last 30 days\n",
    "y_pred_lr = lr.predict(X_forecast)\n",
    "# denormalize and set prediction in 'predictions' column\n",
    "new_y_pred = denormalize(df_copy,y_pred_lr)\n",
    "df_copy.iloc[-30:,-1] = new_y_pred.flatten()"
   ]
  },
  {
   "cell_type": "code",
   "execution_count": 21,
   "metadata": {},
   "outputs": [
    {
     "data": {
      "text/html": [
       "<div>\n",
       "<style scoped>\n",
       "    .dataframe tbody tr th:only-of-type {\n",
       "        vertical-align: middle;\n",
       "    }\n",
       "\n",
       "    .dataframe tbody tr th {\n",
       "        vertical-align: top;\n",
       "    }\n",
       "\n",
       "    .dataframe thead th {\n",
       "        text-align: right;\n",
       "    }\n",
       "</style>\n",
       "<table border=\"1\" class=\"dataframe\">\n",
       "  <thead>\n",
       "    <tr style=\"text-align: right;\">\n",
       "      <th></th>\n",
       "      <th>Close</th>\n",
       "      <th>Predictions</th>\n",
       "    </tr>\n",
       "  </thead>\n",
       "  <tbody>\n",
       "    <tr>\n",
       "      <th>0</th>\n",
       "      <td>1837.28</td>\n",
       "      <td>1905.847272</td>\n",
       "    </tr>\n",
       "    <tr>\n",
       "      <th>1</th>\n",
       "      <td>1849.86</td>\n",
       "      <td>1906.898003</td>\n",
       "    </tr>\n",
       "    <tr>\n",
       "      <th>2</th>\n",
       "      <td>1835.84</td>\n",
       "      <td>1909.894304</td>\n",
       "    </tr>\n",
       "    <tr>\n",
       "      <th>3</th>\n",
       "      <td>1847.33</td>\n",
       "      <td>1907.719138</td>\n",
       "    </tr>\n",
       "    <tr>\n",
       "      <th>4</th>\n",
       "      <td>1844.07</td>\n",
       "      <td>1919.120925</td>\n",
       "    </tr>\n",
       "    <tr>\n",
       "      <th>5</th>\n",
       "      <td>1843.06</td>\n",
       "      <td>1920.502034</td>\n",
       "    </tr>\n",
       "    <tr>\n",
       "      <th>6</th>\n",
       "      <td>1844.87</td>\n",
       "      <td>1893.664867</td>\n",
       "    </tr>\n",
       "    <tr>\n",
       "      <th>7</th>\n",
       "      <td>1863.04</td>\n",
       "      <td>1932.853187</td>\n",
       "    </tr>\n",
       "    <tr>\n",
       "      <th>8</th>\n",
       "      <td>1864.82</td>\n",
       "      <td>1939.577707</td>\n",
       "    </tr>\n",
       "    <tr>\n",
       "      <th>9</th>\n",
       "      <td>1861.69</td>\n",
       "      <td>1938.945183</td>\n",
       "    </tr>\n",
       "    <tr>\n",
       "      <th>10</th>\n",
       "      <td>1887.31</td>\n",
       "      <td>1933.002075</td>\n",
       "    </tr>\n",
       "    <tr>\n",
       "      <th>11</th>\n",
       "      <td>1923.77</td>\n",
       "      <td>1980.614334</td>\n",
       "    </tr>\n",
       "    <tr>\n",
       "      <th>12</th>\n",
       "      <td>1901.75</td>\n",
       "      <td>1975.245863</td>\n",
       "    </tr>\n",
       "    <tr>\n",
       "      <th>13</th>\n",
       "      <td>1902.25</td>\n",
       "      <td>1977.866085</td>\n",
       "    </tr>\n",
       "    <tr>\n",
       "      <th>14</th>\n",
       "      <td>1950.63</td>\n",
       "      <td>1974.466271</td>\n",
       "    </tr>\n",
       "    <tr>\n",
       "      <th>15</th>\n",
       "      <td>1938.43</td>\n",
       "      <td>2015.546506</td>\n",
       "    </tr>\n",
       "    <tr>\n",
       "      <th>16</th>\n",
       "      <td>1926.52</td>\n",
       "      <td>1985.573534</td>\n",
       "    </tr>\n",
       "    <tr>\n",
       "      <th>17</th>\n",
       "      <td>1911.52</td>\n",
       "      <td>1994.644912</td>\n",
       "    </tr>\n",
       "    <tr>\n",
       "      <th>18</th>\n",
       "      <td>1900.82</td>\n",
       "      <td>1958.944581</td>\n",
       "    </tr>\n",
       "    <tr>\n",
       "      <th>19</th>\n",
       "      <td>1962.46</td>\n",
       "      <td>2042.561461</td>\n",
       "    </tr>\n",
       "    <tr>\n",
       "      <th>20</th>\n",
       "      <td>1950.55</td>\n",
       "      <td>1978.413017</td>\n",
       "    </tr>\n",
       "    <tr>\n",
       "      <th>21</th>\n",
       "      <td>1921.00</td>\n",
       "      <td>1972.155590</td>\n",
       "    </tr>\n",
       "    <tr>\n",
       "      <th>22</th>\n",
       "      <td>1917.77</td>\n",
       "      <td>1993.363106</td>\n",
       "    </tr>\n",
       "    <tr>\n",
       "      <th>23</th>\n",
       "      <td>1899.87</td>\n",
       "      <td>1943.432672</td>\n",
       "    </tr>\n",
       "    <tr>\n",
       "      <th>24</th>\n",
       "      <td>1889.98</td>\n",
       "      <td>1925.417727</td>\n",
       "    </tr>\n",
       "    <tr>\n",
       "      <th>25</th>\n",
       "      <td>1822.68</td>\n",
       "      <td>1865.808137</td>\n",
       "    </tr>\n",
       "    <tr>\n",
       "      <th>26</th>\n",
       "      <td>1840.12</td>\n",
       "      <td>1900.316472</td>\n",
       "    </tr>\n",
       "    <tr>\n",
       "      <th>27</th>\n",
       "      <td>1871.15</td>\n",
       "      <td>1906.926145</td>\n",
       "    </tr>\n",
       "    <tr>\n",
       "      <th>28</th>\n",
       "      <td>1907.57</td>\n",
       "      <td>1978.172937</td>\n",
       "    </tr>\n",
       "    <tr>\n",
       "      <th>29</th>\n",
       "      <td>1869.00</td>\n",
       "      <td>1938.680731</td>\n",
       "    </tr>\n",
       "  </tbody>\n",
       "</table>\n",
       "</div>"
      ],
      "text/plain": [
       "      Close  Predictions\n",
       "0   1837.28  1905.847272\n",
       "1   1849.86  1906.898003\n",
       "2   1835.84  1909.894304\n",
       "3   1847.33  1907.719138\n",
       "4   1844.07  1919.120925\n",
       "5   1843.06  1920.502034\n",
       "6   1844.87  1893.664867\n",
       "7   1863.04  1932.853187\n",
       "8   1864.82  1939.577707\n",
       "9   1861.69  1938.945183\n",
       "10  1887.31  1933.002075\n",
       "11  1923.77  1980.614334\n",
       "12  1901.75  1975.245863\n",
       "13  1902.25  1977.866085\n",
       "14  1950.63  1974.466271\n",
       "15  1938.43  2015.546506\n",
       "16  1926.52  1985.573534\n",
       "17  1911.52  1994.644912\n",
       "18  1900.82  1958.944581\n",
       "19  1962.46  2042.561461\n",
       "20  1950.55  1978.413017\n",
       "21  1921.00  1972.155590\n",
       "22  1917.77  1993.363106\n",
       "23  1899.87  1943.432672\n",
       "24  1889.98  1925.417727\n",
       "25  1822.68  1865.808137\n",
       "26  1840.12  1900.316472\n",
       "27  1871.15  1906.926145\n",
       "28  1907.57  1978.172937\n",
       "29  1869.00  1938.680731"
      ]
     },
     "execution_count": 21,
     "metadata": {},
     "output_type": "execute_result"
    }
   ],
   "source": [
    "# compare to actual last 30 'normalized_close' values\n",
    "pd.DataFrame(data={'Close': np.array(amzn_stock_df.iloc[-30:,1]), 'Predictions': new_y_pred.flatten()})"
   ]
  },
  {
   "cell_type": "code",
   "execution_count": 22,
   "metadata": {},
   "outputs": [
    {
     "data": {
      "text/plain": [
       "Text(0, 0.5, 'Price')"
      ]
     },
     "execution_count": 22,
     "metadata": {},
     "output_type": "execute_result"
    },
    {
     "data": {
      "image/png": "[encoded data removed]",
      "text/plain": [
       "<Figure size 432x288 with 1 Axes>"
      ]
     },
     "metadata": {
      "needs_background": "light"
     },
     "output_type": "display_data"
    }
   ],
   "source": [
    "# plot results\n",
    "plt.figure()\n",
    "plt.plot(df_copy.iloc[-30:,1], label='Close Price history')\n",
    "plt.plot(df_copy.iloc[-30:,-1] , label='Predicitons Price history')\n",
    "plt.legend(loc='best')\n",
    "plt.title('Actual close price vs predictions')\n",
    "plt.xlabel('Date')\n",
    "plt.ylabel('Price')"
   ]
  },
  {
   "cell_type": "code",
   "execution_count": 23,
   "metadata": {},
   "outputs": [
    {
     "name": "stdout",
     "output_type": "stream",
     "text": [
      "Root Mean Squared Error: 63.123620983560464\n"
     ]
    }
   ],
   "source": [
    "print('Root Mean Squared Error:', np.sqrt(metrics.mean_squared_error(df_copy.iloc[-30:,1], new_y_pred.flatten())))"
   ]
  },
  {
   "cell_type": "markdown",
   "metadata": {},
   "source": [
    "### LSTM Evaluation"
   ]
  },
  {
   "cell_type": "code",
   "execution_count": 24,
   "metadata": {},
   "outputs": [],
   "source": [
    "import math\n",
    "from math import sqrt\n",
    "\n",
    "def model_score(model, X_train, y_train, X_test, y_test):\n",
    "    trainScore = model.evaluate(X_train, y_train, verbose=0)\n",
    "    print('Train Score:  %.5f MSE (%.2f RMSE)' % (trainScore[0], math.sqrt(trainScore[0])))\n",
    "\n",
    "    testScore = model.evaluate(X_test, y_test, verbose=0)\n",
    "    print('Test Score: %.5f MSE (%.2f RMSE)' % (testScore[0], math.sqrt(testScore[0])))\n",
    "    return trainScore[0], testScore[0]"
   ]
  },
  {
   "cell_type": "code",
   "execution_count": 25,
   "metadata": {},
   "outputs": [
    {
     "name": "stdout",
     "output_type": "stream",
     "text": [
      "Train Score:  0.00007 MSE (0.01 RMSE)\n",
      "Test Score: 0.00871 MSE (0.09 RMSE)\n"
     ]
    },
    {
     "data": {
      "text/plain": [
       "(6.831446566574464e-05, 0.008706178300306521)"
      ]
     },
     "execution_count": 25,
     "metadata": {},
     "output_type": "execute_result"
    }
   ],
   "source": [
    "y_pred = lstm.predict(X_test)\n",
    "new_pred = denormalize(amzn_stock_df, y_pred)\n",
    "newy_test = denormalize(amzn_stock_df, y_test)\n",
    "model_score(lstm, X_train, y_train, X_test, y_test)"
   ]
  },
  {
   "cell_type": "code",
   "execution_count": 35,
   "metadata": {},
   "outputs": [
    {
     "data": {
      "image/png": "[encoded data removed]",
      "text/plain": [
       "<Figure size 432x288 with 1 Axes>"
      ]
     },
     "metadata": {
      "needs_background": "light"
     },
     "output_type": "display_data"
    }
   ],
   "source": [
    "plt.plot(new_pred,color='red', label='Prediction')\n",
    "plt.plot(newy_test,color='blue', label='Actual')\n",
    "plt.title('Predictions vs Actual')\n",
    "plt.xlabel('Days')\n",
    "plt.ylabel('Price')\n",
    "plt.legend(loc='best')\n",
    "plt.show()"
   ]
  },
  {
   "cell_type": "markdown",
   "metadata": {},
   "source": [
    "After evaluating the models we can see that the RSME of the LSTM is better than the Linear Regression model."
   ]
  }
 ],
 "metadata": {
  "kernelspec": {
   "display_name": "Python 3",
   "language": "python",
   "name": "python3"
  },
  "language_info": {
   "codemirror_mode": {
    "name": "ipython",
    "version": 3
   },
   "file_extension": ".py",
   "mimetype": "text/x-python",
   "name": "python",
   "nbconvert_exporter": "python",
   "pygments_lexer": "ipython3",
   "version": "3.6.8"
  }
 },
 "nbformat": 4,
 "nbformat_minor": 2
}
